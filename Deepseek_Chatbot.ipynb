{
 "cells": [
  {
   "cell_type": "code",
   "execution_count": 7,
   "id": "7154066b-e4b0-42c2-91f9-8505b7f77537",
   "metadata": {},
   "outputs": [],
   "source": [
    "# Imports\n",
    "\n",
    "import ollama\n",
    "from IPython.display import Markdown, display"
   ]
  },
  {
   "cell_type": "code",
   "execution_count": 8,
   "id": "1cddbc89-94b9-47c2-a473-50d8f14683c8",
   "metadata": {
    "editable": true,
    "slideshow": {
     "slide_type": ""
    },
    "tags": []
   },
   "outputs": [],
   "source": [
    "# Constants\n",
    "\n",
    "OLLAMA_API = \"http://localhost:11434/api/chat\"\n",
    "HEADERS = {\"Content-Type\": \"application/json\"}\n",
    "MODEL = \"deepseek-R1\""
   ]
  },
  {
   "cell_type": "code",
   "execution_count": 18,
   "id": "c9cc5e21-6f4d-4c77-9cf5-cade1eb385a8",
   "metadata": {},
   "outputs": [
    {
     "name": "stdin",
     "output_type": "stream",
     "text": [
      "Hi there, how can I help you? I want to weight of sun and moon combined\n"
     ]
    }
   ],
   "source": [
    "messages = [\n",
    "    {\n",
    "        'role': 'user',\n",
    "        'content': input(\"Hi there, how can I help you?\")\n",
    "    }\n",
    "]"
   ]
  },
  {
   "cell_type": "code",
   "execution_count": null,
   "id": "cfd8868b-d716-46df-b9b9-5ec0f9e90277",
   "metadata": {},
   "outputs": [],
   "source": [
    "response = \n",
    "    ollama.chat(\n",
    "        model=MODEL, \n",
    "        messages=messages, \n",
    "        options={'think': False}\n",
    "    )\n",
    "display(Markdown(response['message']['content']))"
   ]
  },
  {
   "cell_type": "code",
   "execution_count": null,
   "id": "35750525-aff6-4df1-bfac-741d4e06fdbe",
   "metadata": {},
   "outputs": [],
   "source": []
  }
 ],
 "metadata": {
  "kernelspec": {
   "display_name": "Python 3 (ipykernel)",
   "language": "python",
   "name": "python3"
  },
  "language_info": {
   "codemirror_mode": {
    "name": "ipython",
    "version": 3
   },
   "file_extension": ".py",
   "mimetype": "text/x-python",
   "name": "python",
   "nbconvert_exporter": "python",
   "pygments_lexer": "ipython3",
   "version": "3.12.3"
  }
 },
 "nbformat": 4,
 "nbformat_minor": 5
}
